{
 "cells": [
  {
   "cell_type": "code",
   "execution_count": 22,
   "metadata": {
    "collapsed": false
   },
   "outputs": [
    {
     "name": "stdout",
     "output_type": "stream",
     "text": [
      "[2 5]\n",
      "1.0\n",
      "3.0\n",
      "0     6.0\n",
      "1     7.0\n",
      "2     8.0\n",
      "3     9.0\n",
      "4    10.0\n",
      "5     4.0\n",
      "6    11.0\n",
      "7    12.0\n",
      "Name: predicted, dtype: float64\n",
      "0.0\n"
     ]
    }
   ],
   "source": [
    "#importing necessary packages\n",
    "import pandas as pd\n",
    "from math import pow\n",
    "\n",
    "#Getting header names of the dataframe\n",
    "def get_attributes(dataframe):\n",
    "    return dataframe.columns.values  \n",
    "\n",
    "#function to calculate mean\n",
    "def calc_mean(x):\n",
    "    total=sum(x)\n",
    "    no=len(x)\n",
    "    mean=total/float(no)\n",
    "    return mean\n",
    "\n",
    "#function to calculate variance\n",
    "def calc_variance(x):\n",
    "    mean=calc_mean(x)\n",
    "    size=len(x)\n",
    "    sq_diff=[pow((xi-mean),2) for xi in x]\n",
    "    variance=sum(sq_diff)/float(size-1)\n",
    "    return variance  \n",
    "\n",
    "#function to calculate co-variance\n",
    "def calc_covariance(x1,x2):\n",
    "    mean1=calc_mean(x1)\n",
    "    mean2=calc_mean(x2)\n",
    "    size=len(x1)\n",
    "    cv=0.0\n",
    "    for i in range(0,size):\n",
    "        cv+=(x1[i]-mean1)*(x2[i]-mean2)\n",
    "    covariance=cv/float(size-1)\n",
    "    return covariance\n",
    "\n",
    "#function to calculate co-efficients of y=mx+c\n",
    "def calc_coeff(x,y):\n",
    "    m=calc_covariance(x,y)/float(calc_variance(x))\n",
    "    c=calc_mean(y)-(m*calc_mean(x))\n",
    "    return m,c\n",
    "\n",
    "#the line equation\n",
    "def find_y(x,m,c):\n",
    "    y=m*x+c\n",
    "    return y\n",
    "\n",
    "#function to calculate root mean square error\n",
    "def calc_rmse(actual,predicted):\n",
    "    sq_error=0.0\n",
    "    size=len(actual)\n",
    "    for i in range(0,size):\n",
    "        error=predicted[i]-actual[i]\n",
    "        sq_error+=pow(error,2)\n",
    "    rmse=sq_error/float(size)\n",
    "    return rmse\n",
    "\n",
    "#Linear regression model\n",
    "def Linear_regression(dataset):\n",
    "    attributes=get_attributes(dataset)\n",
    "    print(attributes)\n",
    "    m,c=calc_coeff(dataset[attributes[0]],dataset[attributes[1]])\n",
    "    print(m)\n",
    "    print(c)\n",
    "    dataset['predicted']=find_y(dataset[attributes[0]],m,c)\n",
    "    print(dataset['predicted'])\n",
    "    efficiency=calc_rmse(dataset[attributes[1]],dataset['predicted'])\n",
    "    print(efficiency)\n",
    "\n",
    "input_path = r'C:\\Users\\SAHAJA\\sample.xlsx'\n",
    "dataset = pd.read_excel(input_path)\n",
    "Linear_regression(dataset)"
   ]
  },
  {
   "cell_type": "code",
   "execution_count": null,
   "metadata": {
    "collapsed": true
   },
   "outputs": [],
   "source": []
  }
 ],
 "metadata": {
  "kernelspec": {
   "display_name": "Python 3",
   "language": "python",
   "name": "python3"
  },
  "language_info": {
   "codemirror_mode": {
    "name": "ipython",
    "version": 3
   },
   "file_extension": ".py",
   "mimetype": "text/x-python",
   "name": "python",
   "nbconvert_exporter": "python",
   "pygments_lexer": "ipython3",
   "version": "3.6.0"
  }
 },
 "nbformat": 4,
 "nbformat_minor": 2
}
